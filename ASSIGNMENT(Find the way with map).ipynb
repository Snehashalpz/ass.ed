{
 "cells": [
  {
   "cell_type": "code",
   "execution_count": 1,
   "id": "d42bd9bb",
   "metadata": {},
   "outputs": [
    {
     "name": "stdout",
     "output_type": "stream",
     "text": [
      "enter a lits of numbers (separate by space):1 2 3 4 5 6 7\n",
      "triple of list numbers:  [3, 6, 9, 12, 15, 18, 21]\n"
     ]
    }
   ],
   "source": [
    "#write a pthon program to triple all numbers of a given list of integers use python map\n",
    "\n",
    "\n",
    "def triple_numbers(number):\n",
    "    return list(map(lambda x : x*3,number))\n",
    "input_str=input(\"enter a lits of numbers (separate by space):\")\n",
    "number=list(map(int,input_str.split()))\n",
    "\n",
    "tripled_num=triple_numbers(number)\n",
    "print(\"triple of list numbers: \",tripled_num)"
   ]
  },
  {
   "cell_type": "code",
   "execution_count": null,
   "id": "b9af829f",
   "metadata": {},
   "outputs": [],
   "source": []
  }
 ],
 "metadata": {
  "kernelspec": {
   "display_name": "Python 3 (ipykernel)",
   "language": "python",
   "name": "python3"
  },
  "language_info": {
   "codemirror_mode": {
    "name": "ipython",
    "version": 3
   },
   "file_extension": ".py",
   "mimetype": "text/x-python",
   "name": "python",
   "nbconvert_exporter": "python",
   "pygments_lexer": "ipython3",
   "version": "3.10.9"
  }
 },
 "nbformat": 4,
 "nbformat_minor": 5
}
